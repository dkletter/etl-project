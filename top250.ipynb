{
 "cells": [
  {
   "cell_type": "markdown",
   "id": "38665b44",
   "metadata": {},
   "source": [
    "# Top 250 US Restaurants\n"
   ]
  },
  {
   "cell_type": "code",
   "execution_count": 27,
   "id": "d5ddc328",
   "metadata": {},
   "outputs": [],
   "source": [
    "import pandas as pd\n",
    "import sqlite3\n",
    "conn = sqlite3.connect('test_database')\n",
    "c = conn.cursor()"
   ]
  },
  {
   "cell_type": "markdown",
   "id": "71447760",
   "metadata": {},
   "source": [
    "### Extraction"
   ]
  },
  {
   "cell_type": "code",
   "execution_count": 28,
   "id": "3499b6d3",
   "metadata": {},
   "outputs": [
    {
     "data": {
      "text/html": [
       "<div>\n",
       "<style scoped>\n",
       "    .dataframe tbody tr th:only-of-type {\n",
       "        vertical-align: middle;\n",
       "    }\n",
       "\n",
       "    .dataframe tbody tr th {\n",
       "        vertical-align: top;\n",
       "    }\n",
       "\n",
       "    .dataframe thead th {\n",
       "        text-align: right;\n",
       "    }\n",
       "</style>\n",
       "<table border=\"1\" class=\"dataframe\">\n",
       "  <thead>\n",
       "    <tr style=\"text-align: right;\">\n",
       "      <th></th>\n",
       "      <th>Rank</th>\n",
       "      <th>Restaurant</th>\n",
       "      <th>Content</th>\n",
       "      <th>Sales</th>\n",
       "      <th>YOY_Sales</th>\n",
       "      <th>Units</th>\n",
       "      <th>YOY_Units</th>\n",
       "      <th>Headquarters</th>\n",
       "      <th>Segment_Category</th>\n",
       "    </tr>\n",
       "  </thead>\n",
       "  <tbody>\n",
       "    <tr>\n",
       "      <th>0</th>\n",
       "      <td>1</td>\n",
       "      <td>McDonald's</td>\n",
       "      <td>NaN</td>\n",
       "      <td>40412</td>\n",
       "      <td>4.9%</td>\n",
       "      <td>13846</td>\n",
       "      <td>-0.5%</td>\n",
       "      <td>NaN</td>\n",
       "      <td>Quick Service &amp; Burger</td>\n",
       "    </tr>\n",
       "    <tr>\n",
       "      <th>1</th>\n",
       "      <td>2</td>\n",
       "      <td>Starbucks</td>\n",
       "      <td>NaN</td>\n",
       "      <td>21380</td>\n",
       "      <td>8.6%</td>\n",
       "      <td>15049</td>\n",
       "      <td>3.0%</td>\n",
       "      <td>NaN</td>\n",
       "      <td>Quick Service &amp; Coffee Cafe</td>\n",
       "    </tr>\n",
       "    <tr>\n",
       "      <th>2</th>\n",
       "      <td>3</td>\n",
       "      <td>Chick-fil-A</td>\n",
       "      <td>While Popeyes got a lot of the chicken buzz in...</td>\n",
       "      <td>11320</td>\n",
       "      <td>13.0%</td>\n",
       "      <td>2470</td>\n",
       "      <td>5.0%</td>\n",
       "      <td>NaN</td>\n",
       "      <td>Quick Service &amp; Chicken</td>\n",
       "    </tr>\n",
       "    <tr>\n",
       "      <th>3</th>\n",
       "      <td>4</td>\n",
       "      <td>Taco Bell</td>\n",
       "      <td>NaN</td>\n",
       "      <td>11293</td>\n",
       "      <td>9.0%</td>\n",
       "      <td>6766</td>\n",
       "      <td>2.7%</td>\n",
       "      <td>NaN</td>\n",
       "      <td>Quick Service &amp; Mexican</td>\n",
       "    </tr>\n",
       "    <tr>\n",
       "      <th>4</th>\n",
       "      <td>5</td>\n",
       "      <td>Burger King</td>\n",
       "      <td>NaN</td>\n",
       "      <td>10204</td>\n",
       "      <td>2.7%</td>\n",
       "      <td>7346</td>\n",
       "      <td>0.2%</td>\n",
       "      <td>NaN</td>\n",
       "      <td>Quick Service &amp; Burger</td>\n",
       "    </tr>\n",
       "  </tbody>\n",
       "</table>\n",
       "</div>"
      ],
      "text/plain": [
       "   Rank   Restaurant                                            Content  \\\n",
       "0     1   McDonald's                                                NaN   \n",
       "1     2    Starbucks                                                NaN   \n",
       "2     3  Chick-fil-A  While Popeyes got a lot of the chicken buzz in...   \n",
       "3     4    Taco Bell                                                NaN   \n",
       "4     5  Burger King                                                NaN   \n",
       "\n",
       "   Sales YOY_Sales  Units YOY_Units Headquarters             Segment_Category  \n",
       "0  40412      4.9%  13846     -0.5%          NaN       Quick Service & Burger  \n",
       "1  21380      8.6%  15049      3.0%          NaN  Quick Service & Coffee Cafe  \n",
       "2  11320     13.0%   2470      5.0%          NaN      Quick Service & Chicken  \n",
       "3  11293      9.0%   6766      2.7%          NaN      Quick Service & Mexican  \n",
       "4  10204      2.7%   7346      0.2%          NaN       Quick Service & Burger  "
      ]
     },
     "execution_count": 28,
     "metadata": {},
     "output_type": "execute_result"
    }
   ],
   "source": [
    "top250csv = 'Top250.csv'\n",
    "top250 = pd.read_csv(top250csv)\n",
    "top250.head()"
   ]
  },
  {
   "cell_type": "markdown",
   "id": "c75f7bb6",
   "metadata": {},
   "source": [
    "### Transformation"
   ]
  },
  {
   "cell_type": "code",
   "execution_count": 29,
   "id": "6bd69c71",
   "metadata": {},
   "outputs": [
    {
     "data": {
      "text/html": [
       "<div>\n",
       "<style scoped>\n",
       "    .dataframe tbody tr th:only-of-type {\n",
       "        vertical-align: middle;\n",
       "    }\n",
       "\n",
       "    .dataframe tbody tr th {\n",
       "        vertical-align: top;\n",
       "    }\n",
       "\n",
       "    .dataframe thead th {\n",
       "        text-align: right;\n",
       "    }\n",
       "</style>\n",
       "<table border=\"1\" class=\"dataframe\">\n",
       "  <thead>\n",
       "    <tr style=\"text-align: right;\">\n",
       "      <th></th>\n",
       "      <th>Rank</th>\n",
       "      <th>Restaurant</th>\n",
       "      <th>Sales</th>\n",
       "      <th>YOY_Sales</th>\n",
       "      <th>Units</th>\n",
       "      <th>Segment_Category</th>\n",
       "    </tr>\n",
       "  </thead>\n",
       "  <tbody>\n",
       "    <tr>\n",
       "      <th>0</th>\n",
       "      <td>1</td>\n",
       "      <td>McDonald's</td>\n",
       "      <td>40412</td>\n",
       "      <td>4.9%</td>\n",
       "      <td>13846</td>\n",
       "      <td>Quick Service &amp; Burger</td>\n",
       "    </tr>\n",
       "    <tr>\n",
       "      <th>1</th>\n",
       "      <td>2</td>\n",
       "      <td>Starbucks</td>\n",
       "      <td>21380</td>\n",
       "      <td>8.6%</td>\n",
       "      <td>15049</td>\n",
       "      <td>Quick Service &amp; Coffee Cafe</td>\n",
       "    </tr>\n",
       "    <tr>\n",
       "      <th>2</th>\n",
       "      <td>3</td>\n",
       "      <td>Chick-fil-A</td>\n",
       "      <td>11320</td>\n",
       "      <td>13.0%</td>\n",
       "      <td>2470</td>\n",
       "      <td>Quick Service &amp; Chicken</td>\n",
       "    </tr>\n",
       "    <tr>\n",
       "      <th>3</th>\n",
       "      <td>4</td>\n",
       "      <td>Taco Bell</td>\n",
       "      <td>11293</td>\n",
       "      <td>9.0%</td>\n",
       "      <td>6766</td>\n",
       "      <td>Quick Service &amp; Mexican</td>\n",
       "    </tr>\n",
       "    <tr>\n",
       "      <th>4</th>\n",
       "      <td>5</td>\n",
       "      <td>Burger King</td>\n",
       "      <td>10204</td>\n",
       "      <td>2.7%</td>\n",
       "      <td>7346</td>\n",
       "      <td>Quick Service &amp; Burger</td>\n",
       "    </tr>\n",
       "  </tbody>\n",
       "</table>\n",
       "</div>"
      ],
      "text/plain": [
       "   Rank   Restaurant  Sales YOY_Sales  Units             Segment_Category\n",
       "0     1   McDonald's  40412      4.9%  13846       Quick Service & Burger\n",
       "1     2    Starbucks  21380      8.6%  15049  Quick Service & Coffee Cafe\n",
       "2     3  Chick-fil-A  11320     13.0%   2470      Quick Service & Chicken\n",
       "3     4    Taco Bell  11293      9.0%   6766      Quick Service & Mexican\n",
       "4     5  Burger King  10204      2.7%   7346       Quick Service & Burger"
      ]
     },
     "execution_count": 29,
     "metadata": {},
     "output_type": "execute_result"
    }
   ],
   "source": [
    "top250 = top250.drop(columns=['Content', 'Headquarters', 'YOY_Units'])\n",
    "top250.head()"
   ]
  },
  {
   "cell_type": "code",
   "execution_count": 30,
   "id": "755763b1",
   "metadata": {},
   "outputs": [],
   "source": [
    "# Convert Sales units for Readability\n",
    "#top250milli = top250['Sales']/1000\n",
    "#top250['Sales'] = top250milli\n",
    "#top250milli = top250['Sales']\n",
    "#top250.head()"
   ]
  },
  {
   "cell_type": "markdown",
   "id": "f1ffa935",
   "metadata": {},
   "source": [
    "### Exporting Pandas DF to JSON file"
   ]
  },
  {
   "cell_type": "code",
   "execution_count": 41,
   "id": "c835d8eb",
   "metadata": {},
   "outputs": [
    {
     "name": "stdout",
     "output_type": "stream",
     "text": [
      "None\n"
     ]
    }
   ],
   "source": [
    "top250json = top250.to_json('./export.json', orient = 'index')\n",
    "print(top250json)"
   ]
  },
  {
   "cell_type": "markdown",
   "metadata": {},
   "source": [
    "### Reset index"
   ]
  },
  {
   "cell_type": "code",
   "execution_count": 32,
   "metadata": {},
   "outputs": [],
   "source": [
    "top250= top250.set_index(\"Restaurant\")"
   ]
  },
  {
   "cell_type": "code",
   "execution_count": 43,
   "metadata": {},
   "outputs": [],
   "source": [
    "top250.rename(index = {\"Chili’s Grill & Bar\": \"Chili’s\",\n",
    "                        \"Jimmy John’s Gourmet Sandwiches\":\"Jimmy John’s\",\n",
    "                        \"Qdoba Mexican Eats\": \"QDOBA Mexican Eats\",\n",
    "                        \"Papa Murphy’s Pizza\": \"Papa Murphy’s\",\n",
    "                        \"Dutch Bros. Coffee\":\"Dutch Bros\",\n",
    "                        \"Captain D’s Seafood Kitchen\":\"Captain D’s\",\n",
    "                        \"Checkers Drive-In Restaurants\":\"Checkers\",\n",
    "                        \"Einstein Bros. Bagels\":\" Einstein Bros Bagels\",\n",
    "                        \"Hungry Howie’s Pizza\":\"Hungry Howie’s Pizza & Subs\",\n",
    "                        \"O’Charley’s\":\"O’Charley’s Restaurant & Bar\",\n",
    "                        \"Chuck E. Cheese’s\":\"Chuck E. Cheese\",\n",
    "                        \"Texas de Brazil Churrascaria\":\"Texas de Brazil\",\n",
    "                        \"Corner Bakery_Cafe\":\"Corner Bakery Cafe\",\n",
    "                        \"Krystal Co.\":\"Krystal\",\n",
    "                        \"Cooper’s Hawk Winery & Restaurants\":\"Cooper’s Hawk Winery & Restaurant\",\n",
    "                        \"Big Boy/Frisch’s Big Boy\":\" Frisch’s Big Boy\",\n",
    "                        \"Ninety Nine Restaurants \":\" Ninety Nine Restaurant & Pub\",\n",
    "                        \"Jack’s\":\"Jack’s Pizza\",\n",
    "                        \"Rally’s Hamburgers\":\"Rally’s\",\n",
    "                        \"Pei Wei Asian Diner\":\"Pei Wei\",\n",
    "                        \"Cafe Rio Mexican Grill\":\"Cafe Rio\",\n",
    "                        \"Bahama Breeze Island Grille\":\"Bahama Breeze\",\n",
    "                        \"Rubio’s\":\"Rubio’s Coastal Grill\",\n",
    "                        \"A&W All-American Food\":\"A&W\",\n",
    "                        \"Lazy Dog Restaurant & Bar\":\"Lazy Dog Sports Bar & Grill\",\n",
    "                        \"Souplantation & Sweet Tomatoes\":\"Sweet Tomatoes\",\n",
    "                        \"Del Frisco’s Double Eagle Steak House\":\" Del Frisco’s\",\n",
    "                        \"Buca di Beppo Italian Restaurant\":\" Buca di Beppo\",\n",
    "                        \"Bubba Gump Shrimp Co.\":\"Bubba Gump Shrimp\",\n",
    "                        \"Shoney’s\":\"Shoney’s Restaurants\",\n",
    "                        \"Claim Jumper\":\"Claim Jumper Restaurant & Saloon\",\n",
    "                        \"La Madeleine Country French Cafe\":\"La Madeleine French Bakery & Cafe\",\n",
    "                        \"Mimi’s Bistro & Bakery\":\"Mimi’s Cafe\",\n",
    "                        \"Great Harvest Bread Co.\":\"Great Harvest Bread\",\n",
    "                        \"Old Country Buffet/HomeTown Buffet\":\"HomeTown Buffet\",\n",
    "                        \"Nobu\":\"Nobu Japanese Sushi\",\n",
    "                        },\n",
    "                        inplace = True)"
   ]
  },
  {
   "cell_type": "code",
   "execution_count": 42,
   "metadata": {},
   "outputs": [
    {
     "data": {
      "text/html": [
       "<div>\n",
       "<style scoped>\n",
       "    .dataframe tbody tr th:only-of-type {\n",
       "        vertical-align: middle;\n",
       "    }\n",
       "\n",
       "    .dataframe tbody tr th {\n",
       "        vertical-align: top;\n",
       "    }\n",
       "\n",
       "    .dataframe thead th {\n",
       "        text-align: right;\n",
       "    }\n",
       "</style>\n",
       "<table border=\"1\" class=\"dataframe\">\n",
       "  <thead>\n",
       "    <tr style=\"text-align: right;\">\n",
       "      <th></th>\n",
       "      <th>Rank</th>\n",
       "      <th>Sales</th>\n",
       "      <th>YOY_Sales</th>\n",
       "      <th>Units</th>\n",
       "      <th>Segment_Category</th>\n",
       "    </tr>\n",
       "    <tr>\n",
       "      <th>Restaurant</th>\n",
       "      <th></th>\n",
       "      <th></th>\n",
       "      <th></th>\n",
       "      <th></th>\n",
       "      <th></th>\n",
       "    </tr>\n",
       "  </thead>\n",
       "  <tbody>\n",
       "    <tr>\n",
       "      <th>McDonald's</th>\n",
       "      <td>1</td>\n",
       "      <td>40412</td>\n",
       "      <td>4.9%</td>\n",
       "      <td>13846</td>\n",
       "      <td>Quick Service &amp; Burger</td>\n",
       "    </tr>\n",
       "    <tr>\n",
       "      <th>Starbucks</th>\n",
       "      <td>2</td>\n",
       "      <td>21380</td>\n",
       "      <td>8.6%</td>\n",
       "      <td>15049</td>\n",
       "      <td>Quick Service &amp; Coffee Cafe</td>\n",
       "    </tr>\n",
       "    <tr>\n",
       "      <th>Chick-fil-A</th>\n",
       "      <td>3</td>\n",
       "      <td>11320</td>\n",
       "      <td>13.0%</td>\n",
       "      <td>2470</td>\n",
       "      <td>Quick Service &amp; Chicken</td>\n",
       "    </tr>\n",
       "    <tr>\n",
       "      <th>Taco Bell</th>\n",
       "      <td>4</td>\n",
       "      <td>11293</td>\n",
       "      <td>9.0%</td>\n",
       "      <td>6766</td>\n",
       "      <td>Quick Service &amp; Mexican</td>\n",
       "    </tr>\n",
       "    <tr>\n",
       "      <th>Burger King</th>\n",
       "      <td>5</td>\n",
       "      <td>10204</td>\n",
       "      <td>2.7%</td>\n",
       "      <td>7346</td>\n",
       "      <td>Quick Service &amp; Burger</td>\n",
       "    </tr>\n",
       "  </tbody>\n",
       "</table>\n",
       "</div>"
      ],
      "text/plain": [
       "             Rank  Sales YOY_Sales  Units             Segment_Category\n",
       "Restaurant                                                            \n",
       "McDonald's      1  40412      4.9%  13846       Quick Service & Burger\n",
       "Starbucks       2  21380      8.6%  15049  Quick Service & Coffee Cafe\n",
       "Chick-fil-A     3  11320     13.0%   2470      Quick Service & Chicken\n",
       "Taco Bell       4  11293      9.0%   6766      Quick Service & Mexican\n",
       "Burger King     5  10204      2.7%   7346       Quick Service & Burger"
      ]
     },
     "execution_count": 42,
     "metadata": {},
     "output_type": "execute_result"
    }
   ],
   "source": [
    "top250.head()"
   ]
  }
 ],
 "metadata": {
  "interpreter": {
   "hash": "62b737cbd9d30f7d57f706d7598cc256aa7c24a8dbfbf230c66b07be6ac05172"
  },
  "kernelspec": {
   "display_name": "Python 3.8.8 64-bit ('base': conda)",
   "name": "python3"
  },
  "language_info": {
   "codemirror_mode": {
    "name": "ipython",
    "version": 3
   },
   "file_extension": ".py",
   "mimetype": "text/x-python",
   "name": "python",
   "nbconvert_exporter": "python",
   "pygments_lexer": "ipython3",
   "version": "3.8.8"
  }
 },
 "nbformat": 4,
 "nbformat_minor": 5
}
